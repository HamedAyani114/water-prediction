{
  "cells": [
    {
      "cell_type": "code",
      "execution_count": 2,
      "metadata": {
        "id": "w_3oE0gpFNW5"
      },
      "outputs": [],
      "source": [
        "import numpy as np\n",
        "import pandas as pd\n",
        "import pickle\n",
        "from sklearn.metrics import confusion_matrix, classification_report\n",
        "from sklearn.model_selection import train_test_split, cross_val_score\n",
        "\n",
        "import warnings\n",
        "warnings.filterwarnings(\"ignore\")"
      ]
    },
    {
      "cell_type": "code",
      "execution_count": 3,
      "metadata": {
        "colab": {
          "base_uri": "https://localhost:8080/",
          "height": 488
        },
        "id": "eRAw28NEFHu5",
        "outputId": "99add215-b1d4-4a36-9656-8c52771f1343"
      },
      "outputs": [],
      "source": [
        "data=pd.read_csv(\"https://raw.githubusercontent.com/HamedAyani114/dataset/main/water_potability.csv\")\n"
      ]
    },
    {
      "cell_type": "markdown",
      "metadata": {
        "id": "D_Wmf2MQl-So"
      },
      "source": [
        "## preprocessing"
      ]
    },
    {
      "cell_type": "code",
      "execution_count": 4,
      "metadata": {
        "colab": {
          "base_uri": "https://localhost:8080/"
        },
        "id": "d-t7SzceFr6M",
        "outputId": "f37b8347-b16e-403b-c5bc-076cdce4f6d8"
      },
      "outputs": [
        {
          "name": "stdout",
          "output_type": "stream",
          "text": [
            "<class 'pandas.core.frame.DataFrame'>\n",
            "RangeIndex: 3276 entries, 0 to 3275\n",
            "Data columns (total 10 columns):\n",
            " #   Column           Non-Null Count  Dtype  \n",
            "---  ------           --------------  -----  \n",
            " 0   ph               2785 non-null   float64\n",
            " 1   Hardness         3276 non-null   float64\n",
            " 2   Solids           3276 non-null   float64\n",
            " 3   Chloramines      3276 non-null   float64\n",
            " 4   Sulfate          2495 non-null   float64\n",
            " 5   Conductivity     3276 non-null   float64\n",
            " 6   Organic_carbon   3276 non-null   float64\n",
            " 7   Trihalomethanes  3114 non-null   float64\n",
            " 8   Turbidity        3276 non-null   float64\n",
            " 9   Potability       3276 non-null   int64  \n",
            "dtypes: float64(9), int64(1)\n",
            "memory usage: 256.1 KB\n"
          ]
        }
      ],
      "source": [
        "data.info()"
      ]
    },
    {
      "cell_type": "code",
      "execution_count": 5,
      "metadata": {
        "colab": {
          "base_uri": "https://localhost:8080/"
        },
        "id": "BpZR1GWflleZ",
        "outputId": "d0c98e8f-c279-45aa-a839-4db895d9d04a"
      },
      "outputs": [
        {
          "data": {
            "text/plain": [
              "ph                 491\n",
              "Hardness             0\n",
              "Solids               0\n",
              "Chloramines          0\n",
              "Sulfate            781\n",
              "Conductivity         0\n",
              "Organic_carbon       0\n",
              "Trihalomethanes    162\n",
              "Turbidity            0\n",
              "Potability           0\n",
              "dtype: int64"
            ]
          },
          "execution_count": 5,
          "metadata": {},
          "output_type": "execute_result"
        }
      ],
      "source": [
        "data.isna().sum()"
      ]
    },
    {
      "cell_type": "code",
      "execution_count": 6,
      "metadata": {
        "id": "AxgV8DRYt1Dh"
      },
      "outputs": [],
      "source": [
        "data= data.dropna()"
      ]
    },
    {
      "cell_type": "code",
      "execution_count": 7,
      "metadata": {
        "colab": {
          "base_uri": "https://localhost:8080/"
        },
        "id": "CYtKtoyTt293",
        "outputId": "236829a3-c7ac-4fbe-c03d-9aeda961b19a"
      },
      "outputs": [
        {
          "name": "stdout",
          "output_type": "stream",
          "text": [
            "<class 'pandas.core.frame.DataFrame'>\n",
            "Int64Index: 2011 entries, 3 to 3271\n",
            "Data columns (total 10 columns):\n",
            " #   Column           Non-Null Count  Dtype  \n",
            "---  ------           --------------  -----  \n",
            " 0   ph               2011 non-null   float64\n",
            " 1   Hardness         2011 non-null   float64\n",
            " 2   Solids           2011 non-null   float64\n",
            " 3   Chloramines      2011 non-null   float64\n",
            " 4   Sulfate          2011 non-null   float64\n",
            " 5   Conductivity     2011 non-null   float64\n",
            " 6   Organic_carbon   2011 non-null   float64\n",
            " 7   Trihalomethanes  2011 non-null   float64\n",
            " 8   Turbidity        2011 non-null   float64\n",
            " 9   Potability       2011 non-null   int64  \n",
            "dtypes: float64(9), int64(1)\n",
            "memory usage: 172.8 KB\n"
          ]
        }
      ],
      "source": [
        "data.info()"
      ]
    },
    {
      "cell_type": "code",
      "execution_count": 8,
      "metadata": {
        "colab": {
          "base_uri": "https://localhost:8080/"
        },
        "id": "pDoNImoLwJvj",
        "outputId": "8eecc6fc-22a3-46b9-b7d1-66ca93bde44f"
      },
      "outputs": [
        {
          "data": {
            "text/plain": [
              "0    1200\n",
              "1     811\n",
              "Name: Potability, dtype: int64"
            ]
          },
          "execution_count": 8,
          "metadata": {},
          "output_type": "execute_result"
        }
      ],
      "source": [
        "data.Potability.value_counts()"
      ]
    },
    {
      "cell_type": "code",
      "execution_count": 10,
      "metadata": {
        "id": "OzgUmilbv_qq"
      },
      "outputs": [],
      "source": [
        "notpotable  = data[data['Potability']==0]\n",
        "potable = data[data['Potability']==1]  \n",
        "\n",
        "from sklearn.utils import resample\n",
        "df_minority_upsampled = resample(potable, replace = True, n_samples = 1200) \n",
        "\n",
        "from sklearn.utils import shuffle\n",
        "data = pd.concat([notpotable, df_minority_upsampled])\n",
        "data = shuffle(data)"
      ]
    },
    {
      "cell_type": "code",
      "execution_count": 11,
      "metadata": {
        "colab": {
          "base_uri": "https://localhost:8080/"
        },
        "id": "R3D3svCowBfp",
        "outputId": "f0cb876e-bd46-405b-bd87-c6fdb35274e6"
      },
      "outputs": [
        {
          "data": {
            "text/plain": [
              "0    1200\n",
              "1    1200\n",
              "Name: Potability, dtype: int64"
            ]
          },
          "execution_count": 11,
          "metadata": {},
          "output_type": "execute_result"
        }
      ],
      "source": [
        "data.Potability.value_counts()"
      ]
    },
    {
      "cell_type": "code",
      "execution_count": 12,
      "metadata": {
        "colab": {
          "base_uri": "https://localhost:8080/",
          "height": 488
        },
        "id": "VtnUOmA2xzgg",
        "outputId": "f0a513e9-888f-47ac-f68d-64f99444d563"
      },
      "outputs": [
        {
          "data": {
            "text/html": [
              "<div>\n",
              "<style scoped>\n",
              "    .dataframe tbody tr th:only-of-type {\n",
              "        vertical-align: middle;\n",
              "    }\n",
              "\n",
              "    .dataframe tbody tr th {\n",
              "        vertical-align: top;\n",
              "    }\n",
              "\n",
              "    .dataframe thead th {\n",
              "        text-align: right;\n",
              "    }\n",
              "</style>\n",
              "<table border=\"1\" class=\"dataframe\">\n",
              "  <thead>\n",
              "    <tr style=\"text-align: right;\">\n",
              "      <th></th>\n",
              "      <th>ph</th>\n",
              "      <th>Hardness</th>\n",
              "      <th>Solids</th>\n",
              "      <th>Chloramines</th>\n",
              "      <th>Sulfate</th>\n",
              "      <th>Conductivity</th>\n",
              "      <th>Organic_carbon</th>\n",
              "      <th>Trihalomethanes</th>\n",
              "      <th>Turbidity</th>\n",
              "      <th>Potability</th>\n",
              "    </tr>\n",
              "  </thead>\n",
              "  <tbody>\n",
              "    <tr>\n",
              "      <th>4</th>\n",
              "      <td>9.092223</td>\n",
              "      <td>181.101509</td>\n",
              "      <td>17978.986339</td>\n",
              "      <td>6.546600</td>\n",
              "      <td>310.135738</td>\n",
              "      <td>398.410813</td>\n",
              "      <td>11.558279</td>\n",
              "      <td>31.997993</td>\n",
              "      <td>4.075075</td>\n",
              "      <td>0</td>\n",
              "    </tr>\n",
              "    <tr>\n",
              "      <th>2581</th>\n",
              "      <td>6.363836</td>\n",
              "      <td>207.422436</td>\n",
              "      <td>9844.702293</td>\n",
              "      <td>9.765921</td>\n",
              "      <td>320.630725</td>\n",
              "      <td>466.592544</td>\n",
              "      <td>19.156261</td>\n",
              "      <td>58.265305</td>\n",
              "      <td>4.038984</td>\n",
              "      <td>0</td>\n",
              "    </tr>\n",
              "    <tr>\n",
              "      <th>1186</th>\n",
              "      <td>9.484703</td>\n",
              "      <td>122.906991</td>\n",
              "      <td>56351.396304</td>\n",
              "      <td>4.219711</td>\n",
              "      <td>219.553437</td>\n",
              "      <td>480.848063</td>\n",
              "      <td>13.533433</td>\n",
              "      <td>41.731219</td>\n",
              "      <td>4.132274</td>\n",
              "      <td>1</td>\n",
              "    </tr>\n",
              "    <tr>\n",
              "      <th>490</th>\n",
              "      <td>6.624806</td>\n",
              "      <td>204.342928</td>\n",
              "      <td>21443.264749</td>\n",
              "      <td>5.980402</td>\n",
              "      <td>312.315229</td>\n",
              "      <td>412.996763</td>\n",
              "      <td>11.965107</td>\n",
              "      <td>62.520333</td>\n",
              "      <td>2.840911</td>\n",
              "      <td>0</td>\n",
              "    </tr>\n",
              "    <tr>\n",
              "      <th>2780</th>\n",
              "      <td>7.000523</td>\n",
              "      <td>219.442640</td>\n",
              "      <td>26012.130278</td>\n",
              "      <td>6.280887</td>\n",
              "      <td>395.241329</td>\n",
              "      <td>483.319881</td>\n",
              "      <td>19.538635</td>\n",
              "      <td>46.861384</td>\n",
              "      <td>4.333689</td>\n",
              "      <td>1</td>\n",
              "    </tr>\n",
              "    <tr>\n",
              "      <th>...</th>\n",
              "      <td>...</td>\n",
              "      <td>...</td>\n",
              "      <td>...</td>\n",
              "      <td>...</td>\n",
              "      <td>...</td>\n",
              "      <td>...</td>\n",
              "      <td>...</td>\n",
              "      <td>...</td>\n",
              "      <td>...</td>\n",
              "      <td>...</td>\n",
              "    </tr>\n",
              "    <tr>\n",
              "      <th>407</th>\n",
              "      <td>8.195765</td>\n",
              "      <td>214.517610</td>\n",
              "      <td>10389.542538</td>\n",
              "      <td>6.295405</td>\n",
              "      <td>327.193898</td>\n",
              "      <td>403.189913</td>\n",
              "      <td>15.067042</td>\n",
              "      <td>72.756812</td>\n",
              "      <td>3.218709</td>\n",
              "      <td>1</td>\n",
              "    </tr>\n",
              "    <tr>\n",
              "      <th>3021</th>\n",
              "      <td>10.337671</td>\n",
              "      <td>163.276225</td>\n",
              "      <td>21820.295875</td>\n",
              "      <td>7.899521</td>\n",
              "      <td>356.179637</td>\n",
              "      <td>561.206238</td>\n",
              "      <td>14.116324</td>\n",
              "      <td>56.193061</td>\n",
              "      <td>5.063109</td>\n",
              "      <td>0</td>\n",
              "    </tr>\n",
              "    <tr>\n",
              "      <th>135</th>\n",
              "      <td>6.242414</td>\n",
              "      <td>191.908730</td>\n",
              "      <td>28149.411792</td>\n",
              "      <td>7.130437</td>\n",
              "      <td>319.306785</td>\n",
              "      <td>448.242527</td>\n",
              "      <td>19.370091</td>\n",
              "      <td>60.939481</td>\n",
              "      <td>4.508705</td>\n",
              "      <td>0</td>\n",
              "    </tr>\n",
              "    <tr>\n",
              "      <th>2836</th>\n",
              "      <td>7.833361</td>\n",
              "      <td>249.340053</td>\n",
              "      <td>13394.731607</td>\n",
              "      <td>8.341670</td>\n",
              "      <td>393.137872</td>\n",
              "      <td>443.629123</td>\n",
              "      <td>10.983344</td>\n",
              "      <td>76.645734</td>\n",
              "      <td>4.270973</td>\n",
              "      <td>1</td>\n",
              "    </tr>\n",
              "    <tr>\n",
              "      <th>2761</th>\n",
              "      <td>6.393231</td>\n",
              "      <td>185.836158</td>\n",
              "      <td>17258.114035</td>\n",
              "      <td>7.329999</td>\n",
              "      <td>330.132139</td>\n",
              "      <td>326.427055</td>\n",
              "      <td>11.650393</td>\n",
              "      <td>47.640014</td>\n",
              "      <td>3.644388</td>\n",
              "      <td>1</td>\n",
              "    </tr>\n",
              "  </tbody>\n",
              "</table>\n",
              "<p>2400 rows × 10 columns</p>\n",
              "</div>"
            ],
            "text/plain": [
              "             ph    Hardness        Solids  Chloramines     Sulfate  \\\n",
              "4      9.092223  181.101509  17978.986339     6.546600  310.135738   \n",
              "2581   6.363836  207.422436   9844.702293     9.765921  320.630725   \n",
              "1186   9.484703  122.906991  56351.396304     4.219711  219.553437   \n",
              "490    6.624806  204.342928  21443.264749     5.980402  312.315229   \n",
              "2780   7.000523  219.442640  26012.130278     6.280887  395.241329   \n",
              "...         ...         ...           ...          ...         ...   \n",
              "407    8.195765  214.517610  10389.542538     6.295405  327.193898   \n",
              "3021  10.337671  163.276225  21820.295875     7.899521  356.179637   \n",
              "135    6.242414  191.908730  28149.411792     7.130437  319.306785   \n",
              "2836   7.833361  249.340053  13394.731607     8.341670  393.137872   \n",
              "2761   6.393231  185.836158  17258.114035     7.329999  330.132139   \n",
              "\n",
              "      Conductivity  Organic_carbon  Trihalomethanes  Turbidity  Potability  \n",
              "4       398.410813       11.558279        31.997993   4.075075           0  \n",
              "2581    466.592544       19.156261        58.265305   4.038984           0  \n",
              "1186    480.848063       13.533433        41.731219   4.132274           1  \n",
              "490     412.996763       11.965107        62.520333   2.840911           0  \n",
              "2780    483.319881       19.538635        46.861384   4.333689           1  \n",
              "...            ...             ...              ...        ...         ...  \n",
              "407     403.189913       15.067042        72.756812   3.218709           1  \n",
              "3021    561.206238       14.116324        56.193061   5.063109           0  \n",
              "135     448.242527       19.370091        60.939481   4.508705           0  \n",
              "2836    443.629123       10.983344        76.645734   4.270973           1  \n",
              "2761    326.427055       11.650393        47.640014   3.644388           1  \n",
              "\n",
              "[2400 rows x 10 columns]"
            ]
          },
          "execution_count": 12,
          "metadata": {},
          "output_type": "execute_result"
        }
      ],
      "source": [
        "data"
      ]
    },
    {
      "cell_type": "code",
      "execution_count": 13,
      "metadata": {
        "id": "VbZ2hgYkHLBp"
      },
      "outputs": [],
      "source": [
        "X = data.iloc[:,:-1]\n",
        "y = data.iloc[:,-1]"
      ]
    },
    {
      "cell_type": "code",
      "execution_count": 14,
      "metadata": {
        "id": "St2zeFtSHeqa"
      },
      "outputs": [],
      "source": [
        "X_train,X_test,y_train,y_test=train_test_split(X,y,test_size=0.1,random_state=2)"
      ]
    },
    {
      "cell_type": "code",
      "execution_count": 15,
      "metadata": {
        "id": "CLcE26q9ubDn"
      },
      "outputs": [],
      "source": [
        "from sklearn.ensemble import RandomForestClassifier\n",
        "rfc= RandomForestClassifier(n_estimators=500, criterion='gini', min_samples_leaf=2,)"
      ]
    },
    {
      "cell_type": "code",
      "execution_count": 16,
      "metadata": {
        "colab": {
          "base_uri": "https://localhost:8080/"
        },
        "id": "emyKaGOUuzOz",
        "outputId": "f7e7bd77-8164-4b76-e724-43ac75001024"
      },
      "outputs": [
        {
          "data": {
            "text/html": [
              "<style>#sk-container-id-1 {color: black;background-color: white;}#sk-container-id-1 pre{padding: 0;}#sk-container-id-1 div.sk-toggleable {background-color: white;}#sk-container-id-1 label.sk-toggleable__label {cursor: pointer;display: block;width: 100%;margin-bottom: 0;padding: 0.3em;box-sizing: border-box;text-align: center;}#sk-container-id-1 label.sk-toggleable__label-arrow:before {content: \"▸\";float: left;margin-right: 0.25em;color: #696969;}#sk-container-id-1 label.sk-toggleable__label-arrow:hover:before {color: black;}#sk-container-id-1 div.sk-estimator:hover label.sk-toggleable__label-arrow:before {color: black;}#sk-container-id-1 div.sk-toggleable__content {max-height: 0;max-width: 0;overflow: hidden;text-align: left;background-color: #f0f8ff;}#sk-container-id-1 div.sk-toggleable__content pre {margin: 0.2em;color: black;border-radius: 0.25em;background-color: #f0f8ff;}#sk-container-id-1 input.sk-toggleable__control:checked~div.sk-toggleable__content {max-height: 200px;max-width: 100%;overflow: auto;}#sk-container-id-1 input.sk-toggleable__control:checked~label.sk-toggleable__label-arrow:before {content: \"▾\";}#sk-container-id-1 div.sk-estimator input.sk-toggleable__control:checked~label.sk-toggleable__label {background-color: #d4ebff;}#sk-container-id-1 div.sk-label input.sk-toggleable__control:checked~label.sk-toggleable__label {background-color: #d4ebff;}#sk-container-id-1 input.sk-hidden--visually {border: 0;clip: rect(1px 1px 1px 1px);clip: rect(1px, 1px, 1px, 1px);height: 1px;margin: -1px;overflow: hidden;padding: 0;position: absolute;width: 1px;}#sk-container-id-1 div.sk-estimator {font-family: monospace;background-color: #f0f8ff;border: 1px dotted black;border-radius: 0.25em;box-sizing: border-box;margin-bottom: 0.5em;}#sk-container-id-1 div.sk-estimator:hover {background-color: #d4ebff;}#sk-container-id-1 div.sk-parallel-item::after {content: \"\";width: 100%;border-bottom: 1px solid gray;flex-grow: 1;}#sk-container-id-1 div.sk-label:hover label.sk-toggleable__label {background-color: #d4ebff;}#sk-container-id-1 div.sk-serial::before {content: \"\";position: absolute;border-left: 1px solid gray;box-sizing: border-box;top: 0;bottom: 0;left: 50%;z-index: 0;}#sk-container-id-1 div.sk-serial {display: flex;flex-direction: column;align-items: center;background-color: white;padding-right: 0.2em;padding-left: 0.2em;position: relative;}#sk-container-id-1 div.sk-item {position: relative;z-index: 1;}#sk-container-id-1 div.sk-parallel {display: flex;align-items: stretch;justify-content: center;background-color: white;position: relative;}#sk-container-id-1 div.sk-item::before, #sk-container-id-1 div.sk-parallel-item::before {content: \"\";position: absolute;border-left: 1px solid gray;box-sizing: border-box;top: 0;bottom: 0;left: 50%;z-index: -1;}#sk-container-id-1 div.sk-parallel-item {display: flex;flex-direction: column;z-index: 1;position: relative;background-color: white;}#sk-container-id-1 div.sk-parallel-item:first-child::after {align-self: flex-end;width: 50%;}#sk-container-id-1 div.sk-parallel-item:last-child::after {align-self: flex-start;width: 50%;}#sk-container-id-1 div.sk-parallel-item:only-child::after {width: 0;}#sk-container-id-1 div.sk-dashed-wrapped {border: 1px dashed gray;margin: 0 0.4em 0.5em 0.4em;box-sizing: border-box;padding-bottom: 0.4em;background-color: white;}#sk-container-id-1 div.sk-label label {font-family: monospace;font-weight: bold;display: inline-block;line-height: 1.2em;}#sk-container-id-1 div.sk-label-container {text-align: center;}#sk-container-id-1 div.sk-container {/* jupyter's `normalize.less` sets `[hidden] { display: none; }` but bootstrap.min.css set `[hidden] { display: none !important; }` so we also need the `!important` here to be able to override the default hidden behavior on the sphinx rendered scikit-learn.org. See: https://github.com/scikit-learn/scikit-learn/issues/21755 */display: inline-block !important;position: relative;}#sk-container-id-1 div.sk-text-repr-fallback {display: none;}</style><div id=\"sk-container-id-1\" class=\"sk-top-container\"><div class=\"sk-text-repr-fallback\"><pre>RandomForestClassifier(min_samples_leaf=2, n_estimators=500)</pre><b>In a Jupyter environment, please rerun this cell to show the HTML representation or trust the notebook. <br />On GitHub, the HTML representation is unable to render, please try loading this page with nbviewer.org.</b></div><div class=\"sk-container\" hidden><div class=\"sk-item\"><div class=\"sk-estimator sk-toggleable\"><input class=\"sk-toggleable__control sk-hidden--visually\" id=\"sk-estimator-id-1\" type=\"checkbox\" checked><label for=\"sk-estimator-id-1\" class=\"sk-toggleable__label sk-toggleable__label-arrow\">RandomForestClassifier</label><div class=\"sk-toggleable__content\"><pre>RandomForestClassifier(min_samples_leaf=2, n_estimators=500)</pre></div></div></div></div></div>"
            ],
            "text/plain": [
              "RandomForestClassifier(min_samples_leaf=2, n_estimators=500)"
            ]
          },
          "execution_count": 16,
          "metadata": {},
          "output_type": "execute_result"
        }
      ],
      "source": [
        "rfc.fit(X_train, y_train)"
      ]
    },
    {
      "cell_type": "code",
      "execution_count": 17,
      "metadata": {
        "colab": {
          "base_uri": "https://localhost:8080/"
        },
        "id": "ETrXpWdbu59q",
        "outputId": "16c47b8f-8e32-43db-e0d7-2881be999e7d"
      },
      "outputs": [
        {
          "name": "stdout",
          "output_type": "stream",
          "text": [
            "              precision    recall  f1-score   support\n",
            "\n",
            "           0       0.91      0.89      0.90       119\n",
            "           1       0.89      0.91      0.90       121\n",
            "\n",
            "    accuracy                           0.90       240\n",
            "   macro avg       0.90      0.90      0.90       240\n",
            "weighted avg       0.90      0.90      0.90       240\n",
            "\n"
          ]
        }
      ],
      "source": [
        "predict_rfc = rfc.predict(X_test)\n",
        "print(classification_report(y_test, predict_rfc))"
      ]
    },
    {
      "cell_type": "code",
      "execution_count": 18,
      "metadata": {
        "id": "UnXdhhtJxDW3"
      },
      "outputs": [],
      "source": [
        "model = rfc\n",
        "model.fit(X_train, y_train)\n",
        "# save the model to disk\n",
        "filename = 'model_waterPotability_RFC.pkl'\n",
        "pickle.dump(model, open(filename, 'wb'))"
      ]
    },
    {
      "cell_type": "code",
      "execution_count": 19,
      "metadata": {
        "id": "kjLuxtYjxeLV"
      },
      "outputs": [],
      "source": [
        "# load the model from disk\n",
        "loaded_model = pickle.load(open(filename, 'rb'))"
      ]
    },
    {
      "cell_type": "code",
      "execution_count": 20,
      "metadata": {
        "colab": {
          "base_uri": "https://localhost:8080/"
        },
        "id": "K0izi983xl-6",
        "outputId": "02d019c6-0f27-4f90-e0bc-3a19d5f14dc6"
      },
      "outputs": [
        {
          "data": {
            "text/plain": [
              "array([0, 1], dtype=int64)"
            ]
          },
          "execution_count": 20,
          "metadata": {},
          "output_type": "execute_result"
        }
      ],
      "source": [
        "datain=[\n",
        "    [7.692524,\t220.819152,\t26686.847941,\t8.286211,\t299.958846,\t564.526974,\t13.861775,\t77.015940,\t4.522432  ],\n",
        "    [8.291299,\t211.217034,\t20008.134957,\t8.767875,\t275.767321,\t475.909130,\t12.614669,\t66.612984,\t3.424702\t]\n",
        "]\n",
        "loaded_model.predict(datain)"
      ]
    }
  ],
  "metadata": {
    "colab": {
      "provenance": []
    },
    "kernelspec": {
      "display_name": "Python 3.8.6 64-bit",
      "language": "python",
      "name": "python3"
    },
    "language_info": {
      "codemirror_mode": {
        "name": "ipython",
        "version": 3
      },
      "file_extension": ".py",
      "mimetype": "text/x-python",
      "name": "python",
      "nbconvert_exporter": "python",
      "pygments_lexer": "ipython3",
      "version": "3.8.6"
    },
    "vscode": {
      "interpreter": {
        "hash": "e85bc9d85b3c08469c0ed10a1b41e594eb71a720d1c070386a5543b55dcde006"
      }
    }
  },
  "nbformat": 4,
  "nbformat_minor": 0
}
